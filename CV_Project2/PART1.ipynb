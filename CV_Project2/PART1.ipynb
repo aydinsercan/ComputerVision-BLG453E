{
 "cells": [
  {
   "cell_type": "markdown",
   "metadata": {},
   "source": [
    "# -------------------------------------------PART1----------------------------------------------------------"
   ]
  },
  {
   "cell_type": "code",
   "execution_count": 9,
   "metadata": {},
   "outputs": [],
   "source": [
    "import cv2 \n",
    "import numpy as np \n",
    "import dlib\n",
    "\n",
    "landmarks1 = np.load('panda_landmarks.npy')\n",
    "landmarks2 = np.load('cat_landmarks.npy')\n",
    "landmarks3 = np.load('gorilla_landmarks.npy')\n",
    "\n",
    "img1 = cv2.imread(\"panda.jpg\")\n",
    "img2 = cv2.imread(\"cat.jpg\")\n",
    "img3 = cv2.imread(\"gorilla.jpg\")\n",
    "\n",
    "#print(landmarks.shape)\n",
    "\n",
    "for p in landmarks1:\n",
    "    img1[p[1]-3:p[1]+3, p[0]-3:p[0]+3, :] = (0, 255, 0)\n",
    "    \n",
    "for p in landmarks2:\n",
    "    img2[p[1]-3:p[1]+3, p[0]-3:p[0]+3, :] = (0, 255, 0)\n",
    "\n",
    "for p in landmarks3:\n",
    "    img3[p[1]-3:p[1]+3, p[0]-3:p[0]+3, :] = (0, 255, 0)\n",
    "            \n",
    "cv2.imshow(\"Image1\", img1)\n",
    "cv2.imshow(\"image2\", img2)\n",
    "cv2.imshow(\"image3\", img3)\n",
    "cv2.waitKey(0)\n",
    "cv2.destroyAllWindows()\n"
   ]
  },
  {
   "cell_type": "code",
   "execution_count": 11,
   "metadata": {},
   "outputs": [],
   "source": [
    "import cv2 \n",
    "import numpy as np \n",
    "import dlib\n",
    "from matplotlib.pyplot import figure, imshow, axis\n",
    "from matplotlib.image import imread\n",
    "import matplotlib.pyplot as plt\n",
    "\n",
    "detector = dlib.get_frontal_face_detector()\n",
    "predictor = dlib.shape_predictor(\"shape_predictor_68_face_landmarks.dat\")\n",
    "\n",
    "img1= cv2.imread(\"deniro.jpg\")\n",
    "img2= cv2.imread(\"kimbodnia.png\")\n",
    "img3= cv2.imread(\"aydemirakbas.png\")\n",
    "\n",
    "def func(img):\n",
    "    gray = cv2.cvtColor(img, cv2.COLOR_BGR2GRAY)\n",
    "\n",
    "    rectangles = detector(gray)\n",
    "    points = predictor(gray, rectangles[0])\n",
    "    for n in range(0, 68): \n",
    "        x = points.part(n).x\n",
    "        y = points.part(n).y\n",
    "        cv2.circle(img, (x, y), 2, (0, 255, 0), -1)\n",
    "    return img\n",
    "\n",
    "cv2.imshow(\"Image1\", func(img1))\n",
    "cv2.imshow(\"image2\", func(img2))\n",
    "cv2.imshow(\"image3\", func(img3))\n",
    "cv2.waitKey(0)\n",
    "cv2.destroyAllWindows()"
   ]
  },
  {
   "cell_type": "code",
   "execution_count": null,
   "metadata": {},
   "outputs": [],
   "source": []
  }
 ],
 "metadata": {
  "kernelspec": {
   "display_name": "Python 3",
   "language": "python",
   "name": "python3"
  },
  "language_info": {
   "codemirror_mode": {
    "name": "ipython",
    "version": 3
   },
   "file_extension": ".py",
   "mimetype": "text/x-python",
   "name": "python",
   "nbconvert_exporter": "python",
   "pygments_lexer": "ipython3",
   "version": "3.7.0"
  }
 },
 "nbformat": 4,
 "nbformat_minor": 4
}
